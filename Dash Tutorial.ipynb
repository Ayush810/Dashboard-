{
 "cells": [
  {
   "cell_type": "code",
   "execution_count": 1,
   "metadata": {},
   "outputs": [
    {
     "name": "stdout",
     "output_type": "stream",
     "text": [
      "Requirement already satisfied: dash in c:\\users\\aayyu\\anaconda3\\lib\\site-packages (1.12.0)\n",
      "Requirement already satisfied: dash-core-components==1.10.0 in c:\\users\\aayyu\\anaconda3\\lib\\site-packages (from dash) (1.10.0)\n",
      "Requirement already satisfied: dash-table==4.7.0 in c:\\users\\aayyu\\anaconda3\\lib\\site-packages (from dash) (4.7.0)\n",
      "Requirement already satisfied: plotly in c:\\users\\aayyu\\anaconda3\\lib\\site-packages (from dash) (4.6.0)\n",
      "Requirement already satisfied: Flask>=1.0.2 in c:\\users\\aayyu\\anaconda3\\lib\\site-packages (from dash) (1.1.1)\n",
      "Requirement already satisfied: future in c:\\users\\aayyu\\anaconda3\\lib\\site-packages (from dash) (0.17.1)\n",
      "Requirement already satisfied: flask-compress in c:\\users\\aayyu\\anaconda3\\lib\\site-packages (from dash) (1.5.0)\n",
      "Requirement already satisfied: dash-renderer==1.4.1 in c:\\users\\aayyu\\anaconda3\\lib\\site-packages (from dash) (1.4.1)\n",
      "Requirement already satisfied: dash-html-components==1.0.3 in c:\\users\\aayyu\\anaconda3\\lib\\site-packages (from dash) (1.0.3)\n",
      "Requirement already satisfied: retrying>=1.3.3 in c:\\users\\aayyu\\anaconda3\\lib\\site-packages (from plotly->dash) (1.3.3)\n",
      "Requirement already satisfied: six in c:\\users\\aayyu\\anaconda3\\lib\\site-packages (from plotly->dash) (1.12.0)\n",
      "Requirement already satisfied: Jinja2>=2.10.1 in c:\\users\\aayyu\\anaconda3\\lib\\site-packages (from Flask>=1.0.2->dash) (2.11.2)\n",
      "Requirement already satisfied: Werkzeug>=0.15 in c:\\users\\aayyu\\anaconda3\\lib\\site-packages (from Flask>=1.0.2->dash) (0.16.0)\n",
      "Requirement already satisfied: itsdangerous>=0.24 in c:\\users\\aayyu\\anaconda3\\lib\\site-packages (from Flask>=1.0.2->dash) (1.1.0)\n",
      "Requirement already satisfied: click>=5.1 in c:\\users\\aayyu\\anaconda3\\lib\\site-packages (from Flask>=1.0.2->dash) (7.0)\n",
      "Requirement already satisfied: brotli in c:\\users\\aayyu\\anaconda3\\lib\\site-packages (from flask-compress->dash) (1.0.7)\n",
      "Requirement already satisfied: MarkupSafe>=0.23 in c:\\users\\aayyu\\anaconda3\\lib\\site-packages (from Jinja2>=2.10.1->Flask>=1.0.2->dash) (1.1.1)\n"
     ]
    }
   ],
   "source": [
    "! pip install dash"
   ]
  },
  {
   "cell_type": "markdown",
   "metadata": {},
   "source": []
  },
  {
   "cell_type": "code",
   "execution_count": 3,
   "metadata": {},
   "outputs": [
    {
     "data": {
      "text/html": [
       "<div>\n",
       "<style scoped>\n",
       "    .dataframe tbody tr th:only-of-type {\n",
       "        vertical-align: middle;\n",
       "    }\n",
       "\n",
       "    .dataframe tbody tr th {\n",
       "        vertical-align: top;\n",
       "    }\n",
       "\n",
       "    .dataframe thead th {\n",
       "        text-align: right;\n",
       "    }\n",
       "</style>\n",
       "<table border=\"1\" class=\"dataframe\">\n",
       "  <thead>\n",
       "    <tr style=\"text-align: right;\">\n",
       "      <th></th>\n",
       "      <th>State</th>\n",
       "      <th>Year</th>\n",
       "      <th>Type_code</th>\n",
       "      <th>Type</th>\n",
       "      <th>Gender</th>\n",
       "      <th>Age_group</th>\n",
       "      <th>Total</th>\n",
       "    </tr>\n",
       "  </thead>\n",
       "  <tbody>\n",
       "    <tr>\n",
       "      <th>0</th>\n",
       "      <td>A &amp; N Islands</td>\n",
       "      <td>2001</td>\n",
       "      <td>Causes</td>\n",
       "      <td>Illness (Aids/STD)</td>\n",
       "      <td>Female</td>\n",
       "      <td>0-14</td>\n",
       "      <td>0</td>\n",
       "    </tr>\n",
       "    <tr>\n",
       "      <th>1</th>\n",
       "      <td>A &amp; N Islands</td>\n",
       "      <td>2001</td>\n",
       "      <td>Causes</td>\n",
       "      <td>Bankruptcy or Sudden change in Economic</td>\n",
       "      <td>Female</td>\n",
       "      <td>0-14</td>\n",
       "      <td>0</td>\n",
       "    </tr>\n",
       "    <tr>\n",
       "      <th>2</th>\n",
       "      <td>A &amp; N Islands</td>\n",
       "      <td>2001</td>\n",
       "      <td>Causes</td>\n",
       "      <td>Cancellation/Non-Settlement of Marriage</td>\n",
       "      <td>Female</td>\n",
       "      <td>0-14</td>\n",
       "      <td>0</td>\n",
       "    </tr>\n",
       "    <tr>\n",
       "      <th>3</th>\n",
       "      <td>A &amp; N Islands</td>\n",
       "      <td>2001</td>\n",
       "      <td>Causes</td>\n",
       "      <td>Physical Abuse (Rape/Incest Etc.)</td>\n",
       "      <td>Female</td>\n",
       "      <td>0-14</td>\n",
       "      <td>0</td>\n",
       "    </tr>\n",
       "    <tr>\n",
       "      <th>4</th>\n",
       "      <td>A &amp; N Islands</td>\n",
       "      <td>2001</td>\n",
       "      <td>Causes</td>\n",
       "      <td>Dowry Dispute</td>\n",
       "      <td>Female</td>\n",
       "      <td>0-14</td>\n",
       "      <td>0</td>\n",
       "    </tr>\n",
       "  </tbody>\n",
       "</table>\n",
       "</div>"
      ],
      "text/plain": [
       "           State  Year Type_code                                     Type  \\\n",
       "0  A & N Islands  2001    Causes                       Illness (Aids/STD)   \n",
       "1  A & N Islands  2001    Causes  Bankruptcy or Sudden change in Economic   \n",
       "2  A & N Islands  2001    Causes  Cancellation/Non-Settlement of Marriage   \n",
       "3  A & N Islands  2001    Causes        Physical Abuse (Rape/Incest Etc.)   \n",
       "4  A & N Islands  2001    Causes                            Dowry Dispute   \n",
       "\n",
       "   Gender Age_group  Total  \n",
       "0  Female      0-14      0  \n",
       "1  Female      0-14      0  \n",
       "2  Female      0-14      0  \n",
       "3  Female      0-14      0  \n",
       "4  Female      0-14      0  "
      ]
     },
     "execution_count": 3,
     "metadata": {},
     "output_type": "execute_result"
    }
   ],
   "source": [
    "import dash\n",
    "import dash_core_components as dcc\n",
    "import dash_html_components as html\n",
    "import numpy as np\n",
    "import plotly.graph_objs as go\n",
    "import plotly.express as px\n",
    "import pandas as pd\n",
    "import plotly.io as pio\n",
    "data=pd.read_csv(r\"D:\\old downloads\\Suicides India.csv\")\n"
   ]
  },
  {
   "cell_type": "code",
   "execution_count": 4,
   "metadata": {
    "scrolled": false
   },
   "outputs": [
    {
     "name": "stdout",
     "output_type": "stream",
     "text": [
      "Total cases from 2001-12: \n",
      " Year\n",
      "2001     976464\n",
      "2002     993648\n",
      "2003     997622\n",
      "2004    1023137\n",
      "2005    1025201\n",
      "2006    1062991\n",
      "2007    1103667\n",
      "2008    1125082\n",
      "2009    1144033\n",
      "2010    1211322\n",
      "2011    1219499\n",
      "2012    1189068\n",
      "Name: Total, dtype: int64\n"
     ]
    },
    {
     "data": {
      "text/plain": [
       "<matplotlib.axes._subplots.AxesSubplot at 0x215dd948588>"
      ]
     },
     "execution_count": 4,
     "metadata": {},
     "output_type": "execute_result"
    }
   ],
   "source": [
    "print(\"Total cases from 2001-12: \\n\",data.groupby(\"Year\")[\"Total\"].sum())\n",
    "data.groupby(\"Year\")[\"Total\"].sum().plot(kind=\"line\",marker=\"o\",title=\"People Commited Suicide From 2001-2012\")"
   ]
  },
  {
   "cell_type": "code",
   "execution_count": 5,
   "metadata": {},
   "outputs": [
    {
     "data": {
      "text/plain": [
       "Karnataka            6792\n",
       "Madhya Pradesh       6792\n",
       "Maharashtra          6792\n",
       "Rajasthan            6791\n",
       "Andhra Pradesh       6791\n",
       "Odisha               6791\n",
       "Haryana              6790\n",
       "Chhattisgarh         6790\n",
       "Bihar                6790\n",
       "Kerala               6788\n",
       "Uttar Pradesh        6787\n",
       "Gujarat              6786\n",
       "Tamil Nadu           6786\n",
       "Assam                6786\n",
       "Jharkhand            6785\n",
       "Delhi (Ut)           6782\n",
       "Tripura              6782\n",
       "West Bengal          6780\n",
       "Punjab               6779\n",
       "Himachal Pradesh     6774\n",
       "Jammu & Kashmir      6761\n",
       "Goa                  6759\n",
       "Uttarakhand          6758\n",
       "Sikkim               6742\n",
       "Mizoram              6737\n",
       "Meghalaya            6733\n",
       "Puducherry           6730\n",
       "Chandigarh           6717\n",
       "A & N Islands        6712\n",
       "Daman & Diu          6710\n",
       "Arunachal Pradesh    6707\n",
       "Nagaland             6705\n",
       "D & N Haveli         6704\n",
       "Manipur              6700\n",
       "Lakshadweep          6674\n",
       "Total (States)        312\n",
       "Total (Uts)           312\n",
       "Total (All India)     312\n",
       "Name: State, dtype: int64"
      ]
     },
     "execution_count": 5,
     "metadata": {},
     "output_type": "execute_result"
    }
   ],
   "source": [
    "data[\"State\"].value_counts()"
   ]
  },
  {
   "cell_type": "code",
   "execution_count": 6,
   "metadata": {},
   "outputs": [],
   "source": [
    "data = data[(data[\"State\"]!=\"Total (States)\")&(data[\"State\"]!=\"Total (Uts)\")&(data[\"State\"]!=\"Total (All India)\") ]"
   ]
  },
  {
   "cell_type": "code",
   "execution_count": null,
   "metadata": {},
   "outputs": [],
   "source": []
  },
  {
   "cell_type": "code",
   "execution_count": 15,
   "metadata": {},
   "outputs": [
    {
     "name": "stderr",
     "output_type": "stream",
     "text": [
      "Exception ignored in: <function Socket.__del__ at 0x00000215D546E9D8>\n",
      "Traceback (most recent call last):\n",
      "  File \"C:\\Users\\aayyu\\Anaconda3\\lib\\site-packages\\zmq\\sugar\\socket.py\", line 66, in __del__\n",
      "    if not self._shadow:\n",
      "KeyboardInterrupt\n"
     ]
    }
   ],
   "source": [
    "pio.templates.default = \"plotly_dark\"\n",
    "filter_gender = pd.DataFrame(data.groupby(\"Gender\")[\"Total\"].sum()).reset_index()\n",
    "figure1=px.bar(filter_gender,x=\"Gender\", y=\"Total\",color=\"Gender\",title=\"Gender Sucide Ratio\")\n",
    "pio.templates.default = \"plotly_dark\"\n",
    "filter_state = pd.DataFrame(data.groupby([\"State\"])[\"Total\"].sum()).reset_index()\n",
    "figure2=px.bar(filter_state,x = 'State', y = 'Total',color=\"State\",title=\"State Wise cases\")\n",
    "\n",
    "grouped_year = data.groupby([\"Year\",\"Gender\"])[\"Total\"].sum()\n",
    "grouped_year = pd.DataFrame(grouped_year).reset_index()\n",
    "# grouped_year\n",
    "figure3=px.line(grouped_year,x=\"Year\", y=\"Total\", color=\"Gender\",title=\"Cases With Time\")\n",
    "#reasons of sucide\n",
    "filter_type_code = pd.DataFrame(data.groupby([\"Type_code\",\"Year\"])[\"Total\"].sum()).reset_index()\n",
    "filter_type_code\n",
    "figure4=px.bar(filter_type_code,x=\"Type_code\", y=\"Total\",color=\"Year\",title=\"Factors causing Sucides\")\n",
    "#social issues causes more suicides?\n",
    "filter_social_status = pd.DataFrame(data[data[\"Type_code\"]==\"Social_Status\"].groupby([\"Type\",\"Gender\"])[\"Total\"].sum()).reset_index()\n",
    "figure5=px.bar(filter_social_status,x=\"Type\", y=\"Total\",color=\"Gender\",title=\"Sucide cases in case of married people\")\n",
    "#Education status of people who committed suicides\n",
    "filter_social_status = pd.DataFrame(data[data[\"Type_code\"]==\"Education_Status\"].groupby([\"Type\",\"Gender\"])[\"Total\"].sum()).reset_index()\n",
    "figure6 = px.bar(filter_social_status,x=\"Type\", y=\"Total\",color=\"Gender\",title=\"Educational Qualification of the peopele\")\n",
    "#Profession of the people who committed suicides\n",
    "filter_social_status = pd.DataFrame(data[data[\"Type_code\"]==\"Professional_Profile\"].groupby([\"Type\",\"Gender\"])[\"Total\"].sum()).reset_index()\n",
    "figure7 = px.bar(filter_social_status,x=\"Type\", y=\"Total\",color=\"Gender\",title=\"Profession of people who commit sucides\")\n"
   ]
  },
  {
   "cell_type": "code",
   "execution_count": 16,
   "metadata": {},
   "outputs": [],
   "source": [
    "external_stylesheets = ['https://codepen.io/chriddyp/pen/bWLwgP.css']\n",
    "app = dash.Dash(__name__, external_stylesheets=external_stylesheets) "
   ]
  },
  {
   "cell_type": "code",
   "execution_count": 21,
   "metadata": {},
   "outputs": [],
   "source": [
    "\n",
    "app.layout = html.Div([html.H1(children=\"Sucides Data Visualization\",\n",
    "                              style={\"Color\":\"#808080\",\"textAlign\":\"center\"}\n",
    "                              ),\n",
    "                       html.Div(children=\"Sucides Data Analysis Reporting DashBoard\",\n",
    "                                style={\"Color\":\"##00bfff\",\"textAlign\":\"center\"}\n",
    "                               ),\n",
    "                       dcc.Graph(figure=figure3),\n",
    "                       dcc.Graph(figure=figure2),\n",
    "                       dcc.Graph(figure=figure1),\n",
    "                       dcc.Graph(figure=figure4),\n",
    "                       dcc.Graph(figure=figure5),\n",
    "                       dcc.Graph(figure=figure6),\n",
    "                       dcc.Graph(figure=figure7)\n",
    "                      ])"
   ]
  },
  {
   "cell_type": "code",
   "execution_count": null,
   "metadata": {},
   "outputs": [
    {
     "name": "stdout",
     "output_type": "stream",
     "text": [
      " * Serving Flask app \"__main__\" (lazy loading)\n",
      " * Environment: production\n",
      "   WARNING: This is a development server. Do not use it in a production deployment.\n",
      "   Use a production WSGI server instead.\n",
      " * Debug mode: off\n"
     ]
    },
    {
     "name": "stderr",
     "output_type": "stream",
     "text": [
      " * Running on http://127.0.0.1:4080/ (Press CTRL+C to quit)\n",
      "127.0.0.1 - - [29/Oct/2020 16:47:25] \"GET / HTTP/1.1\" 200 -\n",
      "127.0.0.1 - - [29/Oct/2020 16:47:27] \"GET /_dash-dependencies HTTP/1.1\" 200 -\n",
      "127.0.0.1 - - [29/Oct/2020 16:47:27] \"GET /_dash-layout HTTP/1.1\" 200 -\n",
      "127.0.0.1 - - [29/Oct/2020 19:19:37] \"GET / HTTP/1.1\" 200 -\n",
      "127.0.0.1 - - [29/Oct/2020 19:19:40] \"GET /_dash-dependencies HTTP/1.1\" 200 -\n",
      "127.0.0.1 - - [29/Oct/2020 19:19:40] \"GET /_dash-layout HTTP/1.1\" 200 -\n"
     ]
    }
   ],
   "source": [
    "if __name__==\"__main__\":\n",
    "    app.run_server(port=4080)"
   ]
  },
  {
   "cell_type": "code",
   "execution_count": null,
   "metadata": {},
   "outputs": [],
   "source": []
  },
  {
   "cell_type": "code",
   "execution_count": null,
   "metadata": {},
   "outputs": [],
   "source": []
  },
  {
   "cell_type": "code",
   "execution_count": null,
   "metadata": {},
   "outputs": [],
   "source": []
  },
  {
   "cell_type": "code",
   "execution_count": null,
   "metadata": {},
   "outputs": [],
   "source": []
  }
 ],
 "metadata": {
  "kernelspec": {
   "display_name": "Python 3",
   "language": "python",
   "name": "python3"
  },
  "language_info": {
   "codemirror_mode": {
    "name": "ipython",
    "version": 3
   },
   "file_extension": ".py",
   "mimetype": "text/x-python",
   "name": "python",
   "nbconvert_exporter": "python",
   "pygments_lexer": "ipython3",
   "version": "3.7.4"
  }
 },
 "nbformat": 4,
 "nbformat_minor": 2
}
